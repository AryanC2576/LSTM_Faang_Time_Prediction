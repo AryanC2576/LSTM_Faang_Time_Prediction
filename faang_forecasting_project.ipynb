{
  "cells": [
    {
      "cell_type": "markdown",
      "metadata": {},
      "source": "# \ud83d\udcd8 FAANG Multi-Asset Forecasting Using Attention LSTM\n*Tickers: AAPL, MSFT, GOOG | Period: 2020\u20132025*"
    },
    {
      "cell_type": "code",
      "execution_count": null,
      "metadata": {},
      "outputs": [],
      "source": "%matplotlib inline\nimport pandas as pd\nimport yfinance as yf\nimport importlib \nimport numpy as np\n\n# Modules\nimport data_preprocessing\nfrom data_preprocessing import load_data, normalize_features, create_sequences\n\nimport feature_engineering\nfrom feature_engineering import calculate_rsi, calculate_macd, create_all_features\n\nimport model\nfrom model import build_attention_lstm_model\n\nimport training_and_prediction\nfrom training_and_prediction import run_rolling_forecasts\n\nimport evaluation\nfrom evaluation import calculate_metrics, calculate_strategy_metrics, plot_results, plot_performance_table\n\n# Reload in case you're editing modules\nimportlib.reload(data_preprocessing)\nimportlib.reload(feature_engineering)\nimportlib.reload(model)\nimportlib.reload(training_and_prediction)\nimportlib.reload(evaluation)"
    },
    {
      "cell_type": "code",
      "execution_count": null,
      "metadata": {},
      "outputs": [],
      "source": "# Configuration\ntickers = ['AAPL', 'MSFT', 'GOOG']\nstart_date = '2020-01-01'\nend_date = '2025-01-01'\n\nlookback_window = 60\nforecast_horizon = 1\ntrain_ratio = 0.8"
    },
    {
      "cell_type": "code",
      "execution_count": null,
      "metadata": {},
      "outputs": [],
      "source": "# Data Loading\nraw_data = load_data(tickers, start_date, end_date)\n\nif raw_data is not None:\n    print(\"\u2705 Data downloaded successfully!\")\nelse:\n    print(\"\u274c Error downloading data. Check your internet or ticker symbols.\")"
    },
    {
      "cell_type": "code",
      "execution_count": null,
      "metadata": {},
      "outputs": [],
      "source": "# Feature Engineering\nif raw_data is not None:\n    feature_df = create_all_features(raw_data)\n    display(feature_df.head())"
    },
    {
      "cell_type": "code",
      "execution_count": null,
      "metadata": {},
      "outputs": [],
      "source": "# Rolling Window Forecasting\nif raw_data is not None:\n    print(\"\\n\ud83d\ude80 Starting rolling window forecasting...\")\n    results = run_rolling_forecasts(\n        data=feature_df,\n        model_builder=build_attention_lstm_model,\n        lookback_window=lookback_window,\n        forecast_horizon=forecast_horizon,\n        train_ratio=train_ratio\n    )"
    },
    {
      "cell_type": "code",
      "execution_count": null,
      "metadata": {},
      "outputs": [],
      "source": "# Model Evaluation\nif raw_data is not None:\n    print(\"\\n\ud83d\udcc8 Evaluating Model Performance\")\n    model_metrics = calculate_metrics(results['actuals'], results['predictions'])\n    display(model_metrics)\n    plot_performance_table(model_metrics, title=\"\ud83d\udcca Forecasting Model Performance Metrics\")"
    },
    {
      "cell_type": "code",
      "execution_count": null,
      "metadata": {},
      "outputs": [],
      "source": "# Strategy Evaluation\nif raw_data is not None:\n    print(\"\\n\ud83d\udcc8 Evaluating Strategy Profitability\")\n    strategy_metrics = calculate_strategy_metrics(results['actuals'], results['predictions'])\n    display(strategy_metrics)\n    plot_performance_table(strategy_metrics, title=\"\ud83d\udcb0 Trading Strategy Profitability Metrics\")"
    },
    {
      "cell_type": "code",
      "execution_count": null,
      "metadata": {},
      "outputs": [],
      "source": "# Plotting Results\nif raw_data is not None:\n    plot_results(results['actuals'], results['predictions'])"
    }
  ],
  "metadata": {
    "kernelspec": {
      "display_name": "Python 3",
      "language": "python",
      "name": "python3"
    },
    "language_info": {
      "name": "python",
      "version": "3.10"
    }
  },
  "nbformat": 4,
  "nbformat_minor": 5
}